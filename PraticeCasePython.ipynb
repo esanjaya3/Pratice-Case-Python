{
  "nbformat": 4,
  "nbformat_minor": 0,
  "metadata": {
    "colab": {
      "name": "PraticeCasePython.ipynb",
      "provenance": [],
      "collapsed_sections": []
    },
    "kernelspec": {
      "display_name": "Python 3",
      "name": "python3"
    },
    "language_info": {
      "name": "python"
    }
  },
  "cells": [
    {
      "cell_type": "markdown",
      "metadata": {
        "id": "1zWkMWtXprfL"
      },
      "source": [
        "# Pratice Case Python"
      ]
    },
    {
      "cell_type": "markdown",
      "metadata": {
        "id": "O5nV3bTqpyjq"
      },
      "source": [
        "## Number 1"
      ]
    },
    {
      "cell_type": "code",
      "metadata": {
        "id": "WHodFnsLpxVs"
      },
      "source": [
        "import sqlite3 as sl"
      ],
      "execution_count": 1,
      "outputs": []
    },
    {
      "cell_type": "code",
      "metadata": {
        "id": "BYQYn_f2qPv_"
      },
      "source": [
        "def create_connection(db_file):\n",
        "  conn = None\n",
        "  try:\n",
        "    conn = sl.connect(db_file)\n",
        "    print('Connection Established')\n",
        "    return conn\n",
        "  except sl.Error as e:\n",
        "    print(e)\n",
        "  return conn"
      ],
      "execution_count": 2,
      "outputs": []
    },
    {
      "cell_type": "code",
      "metadata": {
        "id": "Is_t57yxs-jB"
      },
      "source": [
        "def create_insert(conn, q):\n",
        "  try:\n",
        "    c = conn.cursor()\n",
        "    c.execute(q)\n",
        "    print(\"Success!!\")\n",
        "    c.close()\n",
        "  except sl.Error as e:\n",
        "      print(e)"
      ],
      "execution_count": 3,
      "outputs": []
    },
    {
      "cell_type": "code",
      "metadata": {
        "id": "MxlDHQvU2f-p"
      },
      "source": [
        "def select(conn, q):\n",
        "    c = conn.cursor()\n",
        "    c.execute(q)\n",
        "    rows = c.fetchall()\n",
        "    c.close()\n",
        "    for row in rows:\n",
        "        print(row)"
      ],
      "execution_count": 4,
      "outputs": []
    },
    {
      "cell_type": "code",
      "metadata": {
        "id": "VvJ7zkwks7jF"
      },
      "source": [
        "create_transactions_table = \"\"\"CREATE TABLE IF NOT EXISTS transactions(id UUID,\n",
        "                                        insert_time TIMESTAMP NOT NULL,\n",
        "                                        tx_amount FLOAT NOT NULL,\n",
        "                                        tx_type CHARACTER(4) NOT NULL,\n",
        "                                        status CHARACTER(6) NOT NULL\n",
        "                                        )\"\"\""
      ],
      "execution_count": 5,
      "outputs": []
    },
    {
      "cell_type": "code",
      "metadata": {
        "id": "_8jMr-Xnxp97"
      },
      "source": [
        "insert_transactions_table = \"\"\"INSERT INTO transactions(id, insert_time, tx_amount, tx_type, status) \n",
        "                           VALUES\n",
        "                           (1,\"2021-06-26 10:56:63\", 1500, \"buy\",\"open\"),\n",
        "                           (2,\"2021-06-26 10:57:63\", 1508, \"buy\",\"open\"),\n",
        "                           (3,\"2021-06-26 10:57:83\", 1500, \"sell\",\"open\"),\n",
        "                           (1,\"2021-06-26 10:57:83\", 1500, \"buy\",\"close\"),\n",
        "                           (3,\"2021-06-26 10:57:84\", 1500, \"sell\",\"close\"),\n",
        "                           (4,\"2021-06-26 10:58:04\", 1508, \"sell\",\"open\"),\n",
        "                           (2,\"2021-06-26 10:58:05\", 1508, \"buy\",\"close\"),\n",
        "                           (4,\"2021-06-26 10:58:05\", 1508, \"sell\",\"close\"),\n",
        "                           (5,\"2021-06-26 10:59:00\", 1520, \"sell\",\"open\"),\n",
        "                           (6,\"2021-06-26 10:59:04\", 1515, \"sell\",\"open\"),\n",
        "                           (7,\"2021-06-26 10:59:59\", 1515, \"sell\",\"open\");\n",
        "                           \"\"\""
      ],
      "execution_count": 6,
      "outputs": []
    },
    {
      "cell_type": "code",
      "metadata": {
        "colab": {
          "base_uri": "https://localhost:8080/"
        },
        "id": "GXl7EhSbre8T",
        "outputId": "6b57720b-de5f-4370-ceb7-2e3def10c3b5"
      },
      "source": [
        "db1 = create_connection(r'/content/drive/MyDrive/projectcase.db')"
      ],
      "execution_count": 7,
      "outputs": [
        {
          "output_type": "stream",
          "text": [
            "Connection Established\n"
          ],
          "name": "stdout"
        }
      ]
    },
    {
      "cell_type": "code",
      "metadata": {
        "colab": {
          "base_uri": "https://localhost:8080/"
        },
        "id": "s08UdRmw02eW",
        "outputId": "b0c1212d-b483-47cd-ca16-7dfd6a1ffe48"
      },
      "source": [
        "create_insert(db1, create_transactions_table)"
      ],
      "execution_count": 8,
      "outputs": [
        {
          "output_type": "stream",
          "text": [
            "Success!!\n"
          ],
          "name": "stdout"
        }
      ]
    },
    {
      "cell_type": "code",
      "metadata": {
        "colab": {
          "base_uri": "https://localhost:8080/"
        },
        "id": "LR3neXiW1eZZ",
        "outputId": "e6f3823e-87c7-4dcf-9181-00e92c295e21"
      },
      "source": [
        "create_insert(db1, insert_transactions_table)"
      ],
      "execution_count": 9,
      "outputs": [
        {
          "output_type": "stream",
          "text": [
            "Success!!\n"
          ],
          "name": "stdout"
        }
      ]
    },
    {
      "cell_type": "code",
      "metadata": {
        "colab": {
          "base_uri": "https://localhost:8080/"
        },
        "id": "3gEpFNR740ji",
        "outputId": "608bb5d2-b1fe-4022-acc1-9e8f41baf056"
      },
      "source": [
        "select_all = \"SELECT * FROM transactions\"\n",
        "select(db1, select_all)"
      ],
      "execution_count": 10,
      "outputs": [
        {
          "output_type": "stream",
          "text": [
            "(1, '2021-06-26 10:56:63', 1500.0, 'buy', 'open')\n",
            "(2, '2021-06-26 10:57:63', 1508.0, 'buy', 'open')\n",
            "(3, '2021-06-26 10:57:83', 1500.0, 'sell', 'open')\n",
            "(1, '2021-06-26 10:57:83', 1500.0, 'buy', 'close')\n",
            "(3, '2021-06-26 10:57:84', 1500.0, 'sell', 'close')\n",
            "(4, '2021-06-26 10:58:04', 1508.0, 'sell', 'open')\n",
            "(2, '2021-06-26 10:58:05', 1508.0, 'buy', 'close')\n",
            "(4, '2021-06-26 10:58:05', 1508.0, 'sell', 'close')\n",
            "(5, '2021-06-26 10:59:00', 1520.0, 'sell', 'open')\n",
            "(6, '2021-06-26 10:59:04', 1515.0, 'sell', 'open')\n",
            "(7, '2021-06-26 10:59:59', 1515.0, 'sell', 'open')\n"
          ],
          "name": "stdout"
        }
      ]
    },
    {
      "cell_type": "code",
      "metadata": {
        "colab": {
          "base_uri": "https://localhost:8080/"
        },
        "id": "LQAj_fID94I8",
        "outputId": "06eea500-fed0-40c5-d7a4-20bd048ae40e"
      },
      "source": [
        "select_one = \"SELECT id, MAX(insert_time), tx_amount, tx_type, status  FROM transactions GROUP BY id \"\n",
        "select(db1, select_one)"
      ],
      "execution_count": 11,
      "outputs": [
        {
          "output_type": "stream",
          "text": [
            "(1, '2021-06-26 10:57:83', 1500.0, 'buy', 'close')\n",
            "(2, '2021-06-26 10:58:05', 1508.0, 'buy', 'close')\n",
            "(3, '2021-06-26 10:57:84', 1500.0, 'sell', 'close')\n",
            "(4, '2021-06-26 10:58:05', 1508.0, 'sell', 'close')\n",
            "(5, '2021-06-26 10:59:00', 1520.0, 'sell', 'open')\n",
            "(6, '2021-06-26 10:59:04', 1515.0, 'sell', 'open')\n",
            "(7, '2021-06-26 10:59:59', 1515.0, 'sell', 'open')\n"
          ],
          "name": "stdout"
        }
      ]
    },
    {
      "cell_type": "markdown",
      "metadata": {
        "id": "bwHFI-ZUArxE"
      },
      "source": [
        "## Number 2"
      ]
    },
    {
      "cell_type": "code",
      "metadata": {
        "id": "c8zfmuhZA3pY"
      },
      "source": [
        "create_sales_hist_table = \"CREATE TABLE IF NOT EXISTS  sales_hist(date DATETIME, sales INT(10));\""
      ],
      "execution_count": 12,
      "outputs": []
    },
    {
      "cell_type": "code",
      "metadata": {
        "id": "LPrMdH5tBmWR"
      },
      "source": [
        "insert_sales_hist_table = \"\"\"INSERT INTO sales_hist(date, sales) \n",
        "                          VALUES\n",
        "                          (\"01/01/2021\", 100),\n",
        "                          (\"02/01/2021\", 34),\n",
        "                          (\"02/01/2021\", 123),\n",
        "                          (\"02/01/2021\", 134),\n",
        "                          (\"03/01/2021\", 145),\n",
        "                          (\"03/01/2021\", 24),\n",
        "                          (\"04/01/2021\", 542),\n",
        "                          (\"04/01/2021\", 636),\n",
        "                          (\"05/01/2021\", 322),\n",
        "                          (\"06/01/2021\", 242),\n",
        "                          (\"07/01/2021\", 22),\n",
        "                          (\"08/01/2021\", 46);\"\"\""
      ],
      "execution_count": 13,
      "outputs": []
    },
    {
      "cell_type": "code",
      "metadata": {
        "colab": {
          "base_uri": "https://localhost:8080/"
        },
        "id": "AKC17ITPDJki",
        "outputId": "d9fde40b-863c-4968-9ab9-89cdb235d544"
      },
      "source": [
        "create_insert(db1, create_sales_hist_table)"
      ],
      "execution_count": 14,
      "outputs": [
        {
          "output_type": "stream",
          "text": [
            "Success!!\n"
          ],
          "name": "stdout"
        }
      ]
    },
    {
      "cell_type": "code",
      "metadata": {
        "colab": {
          "base_uri": "https://localhost:8080/"
        },
        "id": "Ey2cFLFzDo6k",
        "outputId": "904a288d-8bf2-44ee-ea01-4893717f277c"
      },
      "source": [
        "create_insert(db1, insert_sales_hist_table)"
      ],
      "execution_count": 15,
      "outputs": [
        {
          "output_type": "stream",
          "text": [
            "Success!!\n"
          ],
          "name": "stdout"
        }
      ]
    },
    {
      "cell_type": "code",
      "metadata": {
        "colab": {
          "base_uri": "https://localhost:8080/"
        },
        "id": "BckIX5n8D-8J",
        "outputId": "eb627277-e5a7-4b7c-8148-14c4ba28770f"
      },
      "source": [
        "select_all = \"SELECT * FROM sales_hist\"\n",
        "select(db1, select_all)"
      ],
      "execution_count": 16,
      "outputs": [
        {
          "output_type": "stream",
          "text": [
            "('01/01/2021', 100)\n",
            "('02/01/2021', 34)\n",
            "('02/01/2021', 123)\n",
            "('02/01/2021', 134)\n",
            "('03/01/2021', 145)\n",
            "('03/01/2021', 24)\n",
            "('04/01/2021', 542)\n",
            "('04/01/2021', 636)\n",
            "('05/01/2021', 322)\n",
            "('06/01/2021', 242)\n",
            "('07/01/2021', 22)\n",
            "('08/01/2021', 46)\n"
          ],
          "name": "stdout"
        }
      ]
    },
    {
      "cell_type": "code",
      "metadata": {
        "colab": {
          "base_uri": "https://localhost:8080/"
        },
        "id": "1pxtLBJn9X4v",
        "outputId": "c6b2c611-6359-47ad-88f8-d555792e64ca"
      },
      "source": [
        "select_two = \"SELECT date, SUM(sales) FROM sales_hist GROUP BY date\"\n",
        "select(db1, select_two)"
      ],
      "execution_count": 17,
      "outputs": [
        {
          "output_type": "stream",
          "text": [
            "('01/01/2021', 100)\n",
            "('02/01/2021', 291)\n",
            "('03/01/2021', 169)\n",
            "('04/01/2021', 1178)\n",
            "('05/01/2021', 322)\n",
            "('06/01/2021', 242)\n",
            "('07/01/2021', 22)\n",
            "('08/01/2021', 46)\n"
          ],
          "name": "stdout"
        }
      ]
    },
    {
      "cell_type": "code",
      "metadata": {
        "id": "qn8wFl3uE5Bb"
      },
      "source": [
        "db1.close()"
      ],
      "execution_count": 18,
      "outputs": []
    },
    {
      "cell_type": "markdown",
      "metadata": {
        "id": "SCAxkpMuFKnc"
      },
      "source": [
        "## Number 3"
      ]
    },
    {
      "cell_type": "code",
      "metadata": {
        "id": "lY9QWWsGF7ON"
      },
      "source": [
        "import json\n",
        "import pandas as pd"
      ],
      "execution_count": 19,
      "outputs": []
    },
    {
      "cell_type": "code",
      "metadata": {
        "id": "XPR7pzn-FNFG"
      },
      "source": [
        "dataset = [\n",
        "   {\n",
        "       \"user\": {\n",
        "           \"id\": 1,\n",
        "           \"name\": \"agus\",\n",
        "           \"email\": \"agus@example.com\"\n",
        "       },\n",
        "       \"txs\": [\n",
        "           {\n",
        "               \"id\": 1,\n",
        "               \"tx_date\": \"2020-01-01\",\n",
        "               \"tx_amount\": 10,\n",
        "               \"tx_type\": \"buy\"\n",
        "           },\n",
        "           {\n",
        "               \"id\": 3,\n",
        "               \"tx_date\": \"2020-02-01\",\n",
        "               \"tx_amount\": 10,\n",
        "               \"tx_type\": \"buy\"\n",
        "           },\n",
        "           {\n",
        "               \"id\": 5,\n",
        "               \"tx_date\": \"2020-03-01\",\n",
        "               \"tx_amount\": 20,\n",
        "               \"tx_type\": \"sell\"\n",
        "           }\n",
        "       ]\n",
        "   },\n",
        "   {\n",
        "       \"user\": {\n",
        "           \"id\": 2,\n",
        "           \"name\": \"asep\",\n",
        "           \"email\": \"asep@example.com\"\n",
        "       },\n",
        "       \"txs\": [\n",
        "           {\n",
        "               \"id\": 2,\n",
        "               \"tx_date\": \"2020-01-01\",\n",
        "               \"tx_amount\": 10,\n",
        "               \"tx_type\": \"sell\"\n",
        "           },\n",
        "           {\n",
        "               \"id\": 4,\n",
        "               \"tx_date\": \"2020-02-01\",\n",
        "               \"tx_amount\": 10,\n",
        "               \"tx_type\": \"sell\"\n",
        "           },\n",
        "           {\n",
        "               \"id\": 6,\n",
        "               \"tx_date\": \"2020-03-01\",\n",
        "               \"tx_amount\": 20,\n",
        "               \"tx_type\": \"buy\"\n",
        "           }\n",
        "       ]\n",
        "   }\n",
        "]"
      ],
      "execution_count": 20,
      "outputs": []
    },
    {
      "cell_type": "code",
      "metadata": {
        "id": "dboWdsB-Hqtb"
      },
      "source": [
        "df = pd.json_normalize(dataset)"
      ],
      "execution_count": 21,
      "outputs": []
    },
    {
      "cell_type": "code",
      "metadata": {
        "colab": {
          "base_uri": "https://localhost:8080/",
          "height": 105
        },
        "id": "3llAbflYL-aW",
        "outputId": "10cbe818-cf44-49c1-a1ae-2430a2a2b153"
      },
      "source": [
        "df"
      ],
      "execution_count": 22,
      "outputs": [
        {
          "output_type": "execute_result",
          "data": {
            "text/html": [
              "<div>\n",
              "<style scoped>\n",
              "    .dataframe tbody tr th:only-of-type {\n",
              "        vertical-align: middle;\n",
              "    }\n",
              "\n",
              "    .dataframe tbody tr th {\n",
              "        vertical-align: top;\n",
              "    }\n",
              "\n",
              "    .dataframe thead th {\n",
              "        text-align: right;\n",
              "    }\n",
              "</style>\n",
              "<table border=\"1\" class=\"dataframe\">\n",
              "  <thead>\n",
              "    <tr style=\"text-align: right;\">\n",
              "      <th></th>\n",
              "      <th>txs</th>\n",
              "      <th>user.id</th>\n",
              "      <th>user.name</th>\n",
              "      <th>user.email</th>\n",
              "    </tr>\n",
              "  </thead>\n",
              "  <tbody>\n",
              "    <tr>\n",
              "      <th>0</th>\n",
              "      <td>[{'id': 1, 'tx_date': '2020-01-01', 'tx_amount...</td>\n",
              "      <td>1</td>\n",
              "      <td>agus</td>\n",
              "      <td>agus@example.com</td>\n",
              "    </tr>\n",
              "    <tr>\n",
              "      <th>1</th>\n",
              "      <td>[{'id': 2, 'tx_date': '2020-01-01', 'tx_amount...</td>\n",
              "      <td>2</td>\n",
              "      <td>asep</td>\n",
              "      <td>asep@example.com</td>\n",
              "    </tr>\n",
              "  </tbody>\n",
              "</table>\n",
              "</div>"
            ],
            "text/plain": [
              "                                                 txs  ...        user.email\n",
              "0  [{'id': 1, 'tx_date': '2020-01-01', 'tx_amount...  ...  agus@example.com\n",
              "1  [{'id': 2, 'tx_date': '2020-01-01', 'tx_amount...  ...  asep@example.com\n",
              "\n",
              "[2 rows x 4 columns]"
            ]
          },
          "metadata": {
            "tags": []
          },
          "execution_count": 22
        }
      ]
    },
    {
      "cell_type": "code",
      "metadata": {
        "id": "IIFnQyXsQejM"
      },
      "source": [
        "df = pd.json_normalize(data=dataset, record_path='txs', meta=[['user','id'],['user','name'],['user','email']])"
      ],
      "execution_count": 23,
      "outputs": []
    },
    {
      "cell_type": "code",
      "metadata": {
        "colab": {
          "base_uri": "https://localhost:8080/",
          "height": 220
        },
        "id": "no_Due7DR0is",
        "outputId": "b90989af-186e-4019-ef6d-48ba6321f8f9"
      },
      "source": [
        "df"
      ],
      "execution_count": 24,
      "outputs": [
        {
          "output_type": "execute_result",
          "data": {
            "text/html": [
              "<div>\n",
              "<style scoped>\n",
              "    .dataframe tbody tr th:only-of-type {\n",
              "        vertical-align: middle;\n",
              "    }\n",
              "\n",
              "    .dataframe tbody tr th {\n",
              "        vertical-align: top;\n",
              "    }\n",
              "\n",
              "    .dataframe thead th {\n",
              "        text-align: right;\n",
              "    }\n",
              "</style>\n",
              "<table border=\"1\" class=\"dataframe\">\n",
              "  <thead>\n",
              "    <tr style=\"text-align: right;\">\n",
              "      <th></th>\n",
              "      <th>id</th>\n",
              "      <th>tx_date</th>\n",
              "      <th>tx_amount</th>\n",
              "      <th>tx_type</th>\n",
              "      <th>user.id</th>\n",
              "      <th>user.name</th>\n",
              "      <th>user.email</th>\n",
              "    </tr>\n",
              "  </thead>\n",
              "  <tbody>\n",
              "    <tr>\n",
              "      <th>0</th>\n",
              "      <td>1</td>\n",
              "      <td>2020-01-01</td>\n",
              "      <td>10</td>\n",
              "      <td>buy</td>\n",
              "      <td>1</td>\n",
              "      <td>agus</td>\n",
              "      <td>agus@example.com</td>\n",
              "    </tr>\n",
              "    <tr>\n",
              "      <th>1</th>\n",
              "      <td>3</td>\n",
              "      <td>2020-02-01</td>\n",
              "      <td>10</td>\n",
              "      <td>buy</td>\n",
              "      <td>1</td>\n",
              "      <td>agus</td>\n",
              "      <td>agus@example.com</td>\n",
              "    </tr>\n",
              "    <tr>\n",
              "      <th>2</th>\n",
              "      <td>5</td>\n",
              "      <td>2020-03-01</td>\n",
              "      <td>20</td>\n",
              "      <td>sell</td>\n",
              "      <td>1</td>\n",
              "      <td>agus</td>\n",
              "      <td>agus@example.com</td>\n",
              "    </tr>\n",
              "    <tr>\n",
              "      <th>3</th>\n",
              "      <td>2</td>\n",
              "      <td>2020-01-01</td>\n",
              "      <td>10</td>\n",
              "      <td>sell</td>\n",
              "      <td>2</td>\n",
              "      <td>asep</td>\n",
              "      <td>asep@example.com</td>\n",
              "    </tr>\n",
              "    <tr>\n",
              "      <th>4</th>\n",
              "      <td>4</td>\n",
              "      <td>2020-02-01</td>\n",
              "      <td>10</td>\n",
              "      <td>sell</td>\n",
              "      <td>2</td>\n",
              "      <td>asep</td>\n",
              "      <td>asep@example.com</td>\n",
              "    </tr>\n",
              "    <tr>\n",
              "      <th>5</th>\n",
              "      <td>6</td>\n",
              "      <td>2020-03-01</td>\n",
              "      <td>20</td>\n",
              "      <td>buy</td>\n",
              "      <td>2</td>\n",
              "      <td>asep</td>\n",
              "      <td>asep@example.com</td>\n",
              "    </tr>\n",
              "  </tbody>\n",
              "</table>\n",
              "</div>"
            ],
            "text/plain": [
              "   id     tx_date  tx_amount tx_type user.id user.name        user.email\n",
              "0   1  2020-01-01         10     buy       1      agus  agus@example.com\n",
              "1   3  2020-02-01         10     buy       1      agus  agus@example.com\n",
              "2   5  2020-03-01         20    sell       1      agus  agus@example.com\n",
              "3   2  2020-01-01         10    sell       2      asep  asep@example.com\n",
              "4   4  2020-02-01         10    sell       2      asep  asep@example.com\n",
              "5   6  2020-03-01         20     buy       2      asep  asep@example.com"
            ]
          },
          "metadata": {
            "tags": []
          },
          "execution_count": 24
        }
      ]
    },
    {
      "cell_type": "code",
      "metadata": {
        "colab": {
          "base_uri": "https://localhost:8080/",
          "height": 220
        },
        "id": "qHWus7BOT7Z5",
        "outputId": "87fdbc96-d2db-4d1a-e0aa-6b3e2cb3d0b7"
      },
      "source": [
        "csv1 = df[['user.id','id']]\n",
        "csv1"
      ],
      "execution_count": 25,
      "outputs": [
        {
          "output_type": "execute_result",
          "data": {
            "text/html": [
              "<div>\n",
              "<style scoped>\n",
              "    .dataframe tbody tr th:only-of-type {\n",
              "        vertical-align: middle;\n",
              "    }\n",
              "\n",
              "    .dataframe tbody tr th {\n",
              "        vertical-align: top;\n",
              "    }\n",
              "\n",
              "    .dataframe thead th {\n",
              "        text-align: right;\n",
              "    }\n",
              "</style>\n",
              "<table border=\"1\" class=\"dataframe\">\n",
              "  <thead>\n",
              "    <tr style=\"text-align: right;\">\n",
              "      <th></th>\n",
              "      <th>user.id</th>\n",
              "      <th>id</th>\n",
              "    </tr>\n",
              "  </thead>\n",
              "  <tbody>\n",
              "    <tr>\n",
              "      <th>0</th>\n",
              "      <td>1</td>\n",
              "      <td>1</td>\n",
              "    </tr>\n",
              "    <tr>\n",
              "      <th>1</th>\n",
              "      <td>1</td>\n",
              "      <td>3</td>\n",
              "    </tr>\n",
              "    <tr>\n",
              "      <th>2</th>\n",
              "      <td>1</td>\n",
              "      <td>5</td>\n",
              "    </tr>\n",
              "    <tr>\n",
              "      <th>3</th>\n",
              "      <td>2</td>\n",
              "      <td>2</td>\n",
              "    </tr>\n",
              "    <tr>\n",
              "      <th>4</th>\n",
              "      <td>2</td>\n",
              "      <td>4</td>\n",
              "    </tr>\n",
              "    <tr>\n",
              "      <th>5</th>\n",
              "      <td>2</td>\n",
              "      <td>6</td>\n",
              "    </tr>\n",
              "  </tbody>\n",
              "</table>\n",
              "</div>"
            ],
            "text/plain": [
              "  user.id  id\n",
              "0       1   1\n",
              "1       1   3\n",
              "2       1   5\n",
              "3       2   2\n",
              "4       2   4\n",
              "5       2   6"
            ]
          },
          "metadata": {
            "tags": []
          },
          "execution_count": 25
        }
      ]
    },
    {
      "cell_type": "code",
      "metadata": {
        "colab": {
          "base_uri": "https://localhost:8080/",
          "height": 105
        },
        "id": "Nrv-344vV70c",
        "outputId": "fb8e63d2-120d-41bf-80a0-d4e5114ab3c8"
      },
      "source": [
        "csv2 = df[['user.id','user.name','user.email']]\n",
        "csv2 = csv2.drop_duplicates()\n",
        "csv2"
      ],
      "execution_count": 26,
      "outputs": [
        {
          "output_type": "execute_result",
          "data": {
            "text/html": [
              "<div>\n",
              "<style scoped>\n",
              "    .dataframe tbody tr th:only-of-type {\n",
              "        vertical-align: middle;\n",
              "    }\n",
              "\n",
              "    .dataframe tbody tr th {\n",
              "        vertical-align: top;\n",
              "    }\n",
              "\n",
              "    .dataframe thead th {\n",
              "        text-align: right;\n",
              "    }\n",
              "</style>\n",
              "<table border=\"1\" class=\"dataframe\">\n",
              "  <thead>\n",
              "    <tr style=\"text-align: right;\">\n",
              "      <th></th>\n",
              "      <th>user.id</th>\n",
              "      <th>user.name</th>\n",
              "      <th>user.email</th>\n",
              "    </tr>\n",
              "  </thead>\n",
              "  <tbody>\n",
              "    <tr>\n",
              "      <th>0</th>\n",
              "      <td>1</td>\n",
              "      <td>agus</td>\n",
              "      <td>agus@example.com</td>\n",
              "    </tr>\n",
              "    <tr>\n",
              "      <th>3</th>\n",
              "      <td>2</td>\n",
              "      <td>asep</td>\n",
              "      <td>asep@example.com</td>\n",
              "    </tr>\n",
              "  </tbody>\n",
              "</table>\n",
              "</div>"
            ],
            "text/plain": [
              "  user.id user.name        user.email\n",
              "0       1      agus  agus@example.com\n",
              "3       2      asep  asep@example.com"
            ]
          },
          "metadata": {
            "tags": []
          },
          "execution_count": 26
        }
      ]
    },
    {
      "cell_type": "code",
      "metadata": {
        "colab": {
          "base_uri": "https://localhost:8080/",
          "height": 220
        },
        "id": "edY9XBoHWVK5",
        "outputId": "dca5f2b4-bdd6-44b0-c26d-2c0b26b6341d"
      },
      "source": [
        "csv3 = df[['id','tx_date','tx_amount','tx_type']]\n",
        "csv3"
      ],
      "execution_count": 27,
      "outputs": [
        {
          "output_type": "execute_result",
          "data": {
            "text/html": [
              "<div>\n",
              "<style scoped>\n",
              "    .dataframe tbody tr th:only-of-type {\n",
              "        vertical-align: middle;\n",
              "    }\n",
              "\n",
              "    .dataframe tbody tr th {\n",
              "        vertical-align: top;\n",
              "    }\n",
              "\n",
              "    .dataframe thead th {\n",
              "        text-align: right;\n",
              "    }\n",
              "</style>\n",
              "<table border=\"1\" class=\"dataframe\">\n",
              "  <thead>\n",
              "    <tr style=\"text-align: right;\">\n",
              "      <th></th>\n",
              "      <th>id</th>\n",
              "      <th>tx_date</th>\n",
              "      <th>tx_amount</th>\n",
              "      <th>tx_type</th>\n",
              "    </tr>\n",
              "  </thead>\n",
              "  <tbody>\n",
              "    <tr>\n",
              "      <th>0</th>\n",
              "      <td>1</td>\n",
              "      <td>2020-01-01</td>\n",
              "      <td>10</td>\n",
              "      <td>buy</td>\n",
              "    </tr>\n",
              "    <tr>\n",
              "      <th>1</th>\n",
              "      <td>3</td>\n",
              "      <td>2020-02-01</td>\n",
              "      <td>10</td>\n",
              "      <td>buy</td>\n",
              "    </tr>\n",
              "    <tr>\n",
              "      <th>2</th>\n",
              "      <td>5</td>\n",
              "      <td>2020-03-01</td>\n",
              "      <td>20</td>\n",
              "      <td>sell</td>\n",
              "    </tr>\n",
              "    <tr>\n",
              "      <th>3</th>\n",
              "      <td>2</td>\n",
              "      <td>2020-01-01</td>\n",
              "      <td>10</td>\n",
              "      <td>sell</td>\n",
              "    </tr>\n",
              "    <tr>\n",
              "      <th>4</th>\n",
              "      <td>4</td>\n",
              "      <td>2020-02-01</td>\n",
              "      <td>10</td>\n",
              "      <td>sell</td>\n",
              "    </tr>\n",
              "    <tr>\n",
              "      <th>5</th>\n",
              "      <td>6</td>\n",
              "      <td>2020-03-01</td>\n",
              "      <td>20</td>\n",
              "      <td>buy</td>\n",
              "    </tr>\n",
              "  </tbody>\n",
              "</table>\n",
              "</div>"
            ],
            "text/plain": [
              "   id     tx_date  tx_amount tx_type\n",
              "0   1  2020-01-01         10     buy\n",
              "1   3  2020-02-01         10     buy\n",
              "2   5  2020-03-01         20    sell\n",
              "3   2  2020-01-01         10    sell\n",
              "4   4  2020-02-01         10    sell\n",
              "5   6  2020-03-01         20     buy"
            ]
          },
          "metadata": {
            "tags": []
          },
          "execution_count": 27
        }
      ]
    },
    {
      "cell_type": "code",
      "metadata": {
        "id": "vUkTNZCYUtvh"
      },
      "source": [
        "csv1.to_csv('/content/drive/MyDrive/CSV1.csv',index=False)\n",
        "csv2.to_csv('/content/drive/MyDrive/CSV2.csv',index=False)\n",
        "csv3.to_csv('/content/drive/MyDrive/CSV3.csv',index=False)"
      ],
      "execution_count": 28,
      "outputs": []
    }
  ]
}